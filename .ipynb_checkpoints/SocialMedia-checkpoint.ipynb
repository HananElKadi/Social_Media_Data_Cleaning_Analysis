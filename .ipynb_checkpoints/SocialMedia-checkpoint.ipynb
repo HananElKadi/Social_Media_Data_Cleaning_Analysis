{
 "cells": [
  {
   "cell_type": "markdown",
   "id": "0826d717-11f1-44b5-adeb-89832075dc6a",
   "metadata": {},
   "source": [
    "# Clean And Analyse Social Media"
   ]
  },
  {
   "cell_type": "markdown",
   "id": "6fababf5-1a50-4aa2-ad71-f00e6418f794",
   "metadata": {},
   "source": [
    "## Introduction\n",
    "\n",
    "Social media has become a ubiquitous part of modern life, with platforms such as Instagram, Twitter, and Facebook serving as essential communication channels. Social media data sets are vast and complex, making analysis a challenging task for businesses and researchers alike. In this project, we explore a simulated social media, for example Tweets, data set to understand trends in likes across different categories.\n",
    "\n",
    "## Project Scope\n",
    "\n",
    "The objective of this project is to analyze tweets (or other social media data) and gain insights into user engagement. We will explore the data set using visualization techniques to understand the distribution of likes across different categories. Finally, we will analyze the data to draw conclusions about the most popular categories and the overall engagement on the platform.\n"
   ]
  },
  {
   "cell_type": "markdown",
   "id": "6251e75a-40ab-4bde-8add-fe3834caee96",
   "metadata": {},
   "source": [
    "## Step 1: Importing Required Libraries"
   ]
  },
  {
   "cell_type": "code",
   "execution_count": 8,
   "id": "3a26e761-6e9c-48e7-ac10-2c45b97a39b9",
   "metadata": {},
   "outputs": [],
   "source": [
    "# data manipulation \n",
    "import pandas as pd\n",
    "# numerical operation\n",
    "import numpy as np\n",
    "# visualization\n",
    "import matplotlib.pyplot as plt\n",
    "# statistical plots\n",
    "import seaborn as sns\n",
    "\n",
    "# display plots in notebook\n",
    "%matplotlib inline\n",
    "\n",
    "# set the plot style to 'bmh'\n",
    "plt.style.use('bmh')"
   ]
  },
  {
   "cell_type": "code",
   "execution_count": null,
   "id": "8a854a84-932d-4905-9267-fb4e812dcde3",
   "metadata": {},
   "outputs": [],
   "source": []
  }
 ],
 "metadata": {
  "kernelspec": {
   "display_name": "Python 3 (ipykernel)",
   "language": "python",
   "name": "python3"
  },
  "language_info": {
   "codemirror_mode": {
    "name": "ipython",
    "version": 3
   },
   "file_extension": ".py",
   "mimetype": "text/x-python",
   "name": "python",
   "nbconvert_exporter": "python",
   "pygments_lexer": "ipython3",
   "version": "3.12.5"
  }
 },
 "nbformat": 4,
 "nbformat_minor": 5
}
